{
 "cells": [
  {
   "cell_type": "code",
   "execution_count": 35,
   "metadata": {
    "collapsed": true
   },
   "outputs": [],
   "source": [
    "import numpy as np\n",
    "import os\n",
    "import h5py\n",
    "import pdb"
   ]
  },
  {
   "cell_type": "code",
   "execution_count": 4,
   "metadata": {
    "collapsed": false
   },
   "outputs": [
    {
     "name": "stdout",
     "output_type": "stream",
     "text": [
      "524\n",
      "['4wd' 'car' 'pedestrian' 'pillar' 'pole' 'traffic_lights' 'traffic_sign'\n",
      " 'tree' 'trunk' 'van']\n",
      "[21, 88, 152, 20, 21, 47, 51, 34, 55, 35]\n",
      "[252, 1056, 1824, 240, 252, 564, 612, 408, 660, 420]\n"
     ]
    }
   ],
   "source": [
    "names=np.load('names.npy')\n",
    "list_of_samples=[]\n",
    "list_of_nums=[]\n",
    "list_of_roated_nums=[]\n",
    "for name in names:\n",
    "    temp=np.load(name+'.npy')\n",
    "    list_of_samples.append(temp)\n",
    "    list_of_roated_nums.append(len(temp))\n",
    "    list_of_nums.append(int(len(temp)/12))\n",
    "    \n",
    "all=0\n",
    "for num in list_of_nums:\n",
    "    all=all+num\n",
    "print all\n",
    "print names\n",
    "print list_of_nums\n",
    "print list_of_roated_nums"
   ]
  },
  {
   "cell_type": "code",
   "execution_count": 20,
   "metadata": {
    "collapsed": false
   },
   "outputs": [
    {
     "name": "stdout",
     "output_type": "stream",
     "text": [
      "[1, 2, 3, 4, 5, 6, 7, 8, 9, 10]\n",
      "1956\n",
      "4332\n"
     ]
    }
   ],
   "source": [
    "list_of_train=[]\n",
    "list_of_test=[]\n",
    "list_of_labels=[]\n",
    "label=1\n",
    "numsOfTrain=0\n",
    "numsOfTest=0\n",
    "for num in list_of_nums:\n",
    "    numsOfTrain=numsOfTrain+12*int(0.7*num)\n",
    "    numsOfTest=numsOfTest+12*(num-int(0.7*num))\n",
    "    temp=np.random.permutation(num)\n",
    "    list_of_train.append(temp[0:int(0.7*num)])\n",
    "    list_of_test.append(temp[int(0.7*num):num])\n",
    "    list_of_labels.append(label)\n",
    "    label=label+1\n",
    "print list_of_labels\n",
    "print numsOfTest\n",
    "print numsOfTrain"
   ]
  },
  {
   "cell_type": "code",
   "execution_count": 28,
   "metadata": {
    "collapsed": false,
    "scrolled": true
   },
   "outputs": [],
   "source": [
    "#print list_of_train\n",
    "#np.savetxt('list_of_train.txt',np.array(list_of_train),fmt='%0.5f')\n",
    "f=open('list_of_train.txt','w')\n",
    "for line in list_of_train:\n",
    "  listed=line.tolist()\n",
    "  for ele in listed:\n",
    "    f.write(str(ele)+' ')\n",
    "  f.write('\\n')\n",
    "f.close()"
   ]
  },
  {
   "cell_type": "code",
   "execution_count": 29,
   "metadata": {
    "collapsed": true
   },
   "outputs": [],
   "source": [
    "f=open('list_of_test.txt','w')\n",
    "for line in list_of_test:\n",
    "  listed=line.tolist()\n",
    "  for ele in listed:\n",
    "    f.write(str(ele)+' ')\n",
    "  f.write('\\n')\n",
    "f.close()"
   ]
  },
  {
   "cell_type": "code",
   "execution_count": 21,
   "metadata": {
    "collapsed": false
   },
   "outputs": [
    {
     "data": {
      "text/plain": [
       "<HDF5 dataset \"label\": shape (1956, 1), type \"<i4\">"
      ]
     },
     "execution_count": 21,
     "metadata": {},
     "output_type": "execute_result"
    }
   ],
   "source": [
    "trainH5=h5py.File('train.h5','w')\n",
    "trainH5.create_dataset('data',(numsOfTrain,3,32,32,32),dtype='f8')\n",
    "trainH5.create_dataset('label',(numsOfTrain,1),dtype='i')\n",
    "\n",
    "testH5=h5py.File('test.h5','w')\n",
    "testH5.create_dataset('data',(numsOfTest,3,32,32,32),dtype='f8')\n",
    "testH5.create_dataset('label',(numsOfTest,1),dtype='i')"
   ]
  },
  {
   "cell_type": "code",
   "execution_count": 41,
   "metadata": {
    "collapsed": false
   },
   "outputs": [
    {
     "name": "stdout",
     "output_type": "stream",
     "text": [
      "对4wd进行处理，label是1,有3024个\n",
      "对car进行处理，label是2,有12672个\n",
      "对pedestrian进行处理，label是3,有21888个\n",
      "对pillar进行处理，label是4,有2880个\n",
      "对pole进行处理，label是5,有3024个\n",
      "对traffic_lights进行处理，label是6,有6768个\n",
      "对traffic_sign进行处理，label是7,有7344个\n",
      "对tree进行处理，label是8,有4896个\n",
      "对trunk进行处理，label是9,有7920个\n",
      "对van进行处理，label是10,有5040个\n"
     ]
    }
   ],
   "source": [
    "count_train=0\n",
    "count_test=0\n",
    "for label in list_of_labels:\n",
    "    dataSet=np.transpose(list_of_samples[label-1],(0,4,1,2,3))\n",
    "    print \"对%s进行处理，label是%i,有%i个\"%(names[label-1],label,len(dataSet)*12)\n",
    "    train_sampled=list_of_train[label-1]\n",
    "    test_sampled=list_of_test[label-1]\n",
    "    for trainInput in train_sampled:\n",
    "        #pdb.set_trace()\n",
    "        for i in range(trainInput*12,trainInput*12+12):\n",
    "            trainH5['data'][count_train]=dataSet[i]\n",
    "            trainH5['label'][count_train]=label\n",
    "            count_train=count_train+1\n",
    "    for testInput in test_sampled:\n",
    "        for j in range(testInput*12,testInput*12+12):\n",
    "            testH5['data'][count_test]=dataSet[j]\n",
    "            testH5['label'][count_test]=label\n",
    "            count_test=count_test+1\n",
    "            \n",
    "    "
   ]
  },
  {
   "cell_type": "code",
   "execution_count": 43,
   "metadata": {
    "collapsed": false
   },
   "outputs": [],
   "source": [
    "testH5.close()\n",
    "trainH5.close()"
   ]
  },
  {
   "cell_type": "code",
   "execution_count": null,
   "metadata": {
    "collapsed": true
   },
   "outputs": [],
   "source": []
  }
 ],
 "metadata": {
  "kernelspec": {
   "display_name": "Python 2",
   "language": "python",
   "name": "python2"
  },
  "language_info": {
   "codemirror_mode": {
    "name": "ipython",
    "version": 2
   },
   "file_extension": ".py",
   "mimetype": "text/x-python",
   "name": "python",
   "nbconvert_exporter": "python",
   "pygments_lexer": "ipython2",
   "version": "2.7.6"
  }
 },
 "nbformat": 4,
 "nbformat_minor": 0
}
